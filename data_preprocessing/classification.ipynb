{
  "cells": [
    {
      "cell_type": "code",
      "execution_count": 8,
      "metadata": {
        "colab": {
          "base_uri": "https://localhost:8080/"
        },
        "id": "ws5RRhhnDB_d",
        "outputId": "64290d36-530b-49d9-9b11-eb916c2e5700"
      },
      "outputs": [
        {
          "name": "stdout",
          "output_type": "stream",
          "text": [
            "Accuracy: 0.92\n",
            "Classification Report:\n",
            "               precision    recall  f1-score   support\n",
            "\n",
            "           0       0.89      0.96      0.92      7625\n",
            "           1       0.95      0.88      0.91      7626\n",
            "\n",
            "    accuracy                           0.92     15251\n",
            "   macro avg       0.92      0.92      0.92     15251\n",
            "weighted avg       0.92      0.92      0.92     15251\n",
            "\n"
          ]
        }
      ],
      "source": [
        "import pandas as pd\n",
        "from sklearn.model_selection import train_test_split\n",
        "from sklearn.preprocessing import StandardScaler\n",
        "from sklearn.linear_model import LogisticRegression\n",
        "from sklearn.metrics import accuracy_score, classification_report\n",
        "\n",
        "file_path = \"processed_data.csv\"\n",
        "df = pd.read_csv(file_path)\n",
        "\n",
        "features = [\"Net Working Capital ( Incl. Def. Tax)\", \"Debt-Equity Ratio\", \"Long Term Debt-Equity Ratio\", \"Current Ratio\",\n",
        "            \"Interest Cover Ratio\", \"ROCE (%)\",\"PBIDTM (%)\", \"RONW (%)\",\n",
        "            \"ROE (X)\", \"PAT\", \"Price to Book Value ( P/BV)\", \"Price Earning (P/E)\",\n",
        "            \"EV/EBIDTA\", \"Market Cap/Sales\",\"Gross Profit\"]\n",
        "\n",
        "weights = {\n",
        "    \"Net Working Capital ( Incl. Def. Tax)\":0.06, \"Debt-Equity Ratio\":0.06, \"Long Term Debt-Equity Ratio\":0.06,\n",
        "    \"Current Ratio\":0.07, \"Interest Cover Ratio\":0.05, \"ROCE (%)\":0.10, \"PBIDTM (%)\":0.05, \"RONW (%)\":0.08,\n",
        "    \"ROE (X)\":0.07, \"PAT\":0.05, \"Price to Book Value ( P/BV)\":0.05, \"Price Earning (P/E)\":0.05, \"EV/EBIDTA\":0.05,\n",
        "    \"Market Cap/Sales\":0.05, \"Gross Profit\":0.05\n",
        "}\n",
        "\n",
        "df[\"Weighted Score\"] = sum(df[col] * weights[col] for col in features)\n",
        "\n",
        "threshold = df[\"Weighted Score\"].median()\n",
        "\n",
        "df[\"Performance Label\"] = (df[\"Weighted Score\"] >= threshold).astype(int)\n",
        "\n",
        "X = df[features]\n",
        "y = df[\"Performance Label\"]\n",
        "\n",
        "X_train, X_test, y_train, y_test = train_test_split(X, y, test_size=0.2, random_state=42, stratify=y)\n",
        "\n",
        "scaler = StandardScaler()\n",
        "X_train_scaled = scaler.fit_transform(X_train)\n",
        "X_test_scaled = scaler.transform(X_test)\n",
        "\n",
        "model = LogisticRegression()\n",
        "model.fit(X_train_scaled, y_train)\n",
        "\n",
        "y_pred = model.predict(X_test_scaled)\n",
        "accuracy = accuracy_score(y_test, y_pred)\n",
        "report = classification_report(y_test, y_pred)\n",
        "\n",
        "print(f\"Accuracy: {accuracy:.2f}\")\n",
        "print(\"Classification Report:\\n\", report)\n",
        "df.to_csv(\"labeled_companies.csv\", index=False)"
      ]
    }
  ],
  "metadata": {
    "colab": {
      "provenance": []
    },
    "kernelspec": {
      "display_name": "Python 3",
      "name": "python3"
    },
    "language_info": {
      "name": "python",
      "version": "3.10.11"
    }
  },
  "nbformat": 4,
  "nbformat_minor": 0
}
