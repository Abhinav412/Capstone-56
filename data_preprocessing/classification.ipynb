{
  "cells": [
    {
      "cell_type": "code",
      "execution_count": 11,
      "metadata": {
        "colab": {
          "base_uri": "https://localhost:8080/"
        },
        "id": "ws5RRhhnDB_d",
        "outputId": "f5d0664c-4b78-4f71-bb45-8daf394003b1"
      },
      "outputs": [
        {
          "name": "stdout",
          "output_type": "stream",
          "text": [
            "        Company_Name  Weighted Score  Performance Label\n",
            "0         20 Microns         10.0928                  0\n",
            "1         20 Microns         38.0072                  1\n",
            "2         20 Microns         13.7128                  1\n",
            "3         20 Microns          4.9644                  0\n",
            "4         20 Microns         11.5252                  0\n",
            "5         20 Microns         13.2078                  1\n",
            "6         20 Microns         12.1693                  0\n",
            "7         20 Microns         22.1842                  1\n",
            "8         20 Microns         11.2935                  0\n",
            "9         20 Microns         11.3539                  0\n",
            "10        20 Microns         15.8512                  1\n",
            "11        20 Microns          8.0985                  0\n",
            "12        20 Microns         11.8969                  0\n",
            "13        20 Microns          9.7909                  0\n",
            "14        20 Microns         16.4952                  1\n",
            "15  21st Cent. Mgmt.          9.8782                  0\n",
            "16  21st Cent. Mgmt.         -0.7959                  0\n",
            "17  21st Cent. Mgmt.         -1.9017                  0\n",
            "18  21st Cent. Mgmt.         13.7877                  1\n",
            "19  21st Cent. Mgmt.         -3.2624                  0\n",
            "\n",
            "Model Used: Logistic Regression\n",
            "Accuracy: 0.92\n",
            "Classification Report:\n",
            "               precision    recall  f1-score   support\n",
            "\n",
            "           0       0.89      0.99      0.94      6086\n",
            "           1       0.98      0.82      0.89      4057\n",
            "\n",
            "    accuracy                           0.92     10143\n",
            "   macro avg       0.94      0.90      0.92     10143\n",
            "weighted avg       0.93      0.92      0.92     10143\n",
            "\n"
          ]
        }
      ],
      "source": [
        "import pandas as pd\n",
        "from sklearn.model_selection import train_test_split\n",
        "from sklearn.preprocessing import StandardScaler\n",
        "from sklearn.svm import SVC\n",
        "from sklearn.linear_model import LogisticRegression\n",
        "from sklearn.metrics import accuracy_score, classification_report\n",
        "\n",
        "file_path = \"filtered_data.csv\"\n",
        "df = pd.read_csv(file_path)\n",
        "\n",
        "features = [\"Net Working Capital ( Incl. Def. Tax)\", \"Debt-Equity Ratio\", \"Long Term Debt-Equity Ratio\",\n",
        "            \"Current Ratio\", \"Interest Cover Ratio\", \"ROCE (%)\", \"PBIDTM (%)\", \"RONW (%)\",\n",
        "            \"ROE (X)\", \"PAT\", \"Price to Book Value ( P/BV)\", \"Price Earning (P/E)\",\n",
        "            \"EV/EBIDTA\", \"Market Cap/Sales\", \"Gross Profit\"]\n",
        "\n",
        "weights = {\n",
        "    \"ROCE (%)\": 0.15, \"PBIDTM (%)\": 0.10, \"RONW (%)\": 0.10, \"ROE (X)\": 0.05,\n",
        "    \"Debt-Equity Ratio\": 0.10, \"Long Term Debt-Equity Ratio\": 0.05, \"Interest Cover Ratio\": 0.05,\n",
        "    \"Market Cap/Sales\": 0.07, \"Price to Book Value ( P/BV)\": 0.04, \"Price Earning (P/E)\": 0.04,\n",
        "    \"Net Working Capital ( Incl. Def. Tax)\": 0.05, \"Current Ratio\": 0.05, \"EV/EBIDTA\": 0.05, \"Gross Profit\": 0.05, \"PAT\": 0.05\n",
        "}\n",
        "\n",
        "df[\"Weighted Score\"] = sum(df[col] * weights[col] for col in weights)\n",
        "\n",
        "threshold = df[\"Weighted Score\"].quantile(0.60)\n",
        "df[\"Performance Label\"] = (df[\"Weighted Score\"] >= threshold).astype(int)\n",
        "\n",
        "print(df[[\"Company_Name\", \"Weighted Score\", \"Performance Label\"]].head(20))\n",
        "\n",
        "X = df[features]\n",
        "y = df[\"Performance Label\"]\n",
        "\n",
        "X_train, X_test, y_train, y_test = train_test_split(X, y, test_size=0.2, random_state=42, stratify=y)\n",
        "\n",
        "scaler = StandardScaler()\n",
        "X_train_scaled = scaler.fit_transform(X_train)\n",
        "X_test_scaled = scaler.transform(X_test)\n",
        "\n",
        "model = LogisticRegression(max_iter=125)\n",
        "model.fit(X_train_scaled, y_train)\n",
        "y_pred = model.predict(X_test_scaled)\n",
        "model_type = \"Logistic Regression\"\n",
        "\n",
        "accuracy = accuracy_score(y_test, y_pred)\n",
        "report = classification_report(y_test, y_pred)\n",
        "\n",
        "print(f\"\\nModel Used: {model_type}\")\n",
        "print(f\"Accuracy: {accuracy:.2f}\")\n",
        "print(\"Classification Report:\\n\", report)\n",
        "\n",
        "df.to_csv(\"labeled_companies.csv\", index=False)"
      ]
    },
    {
      "cell_type": "code",
      "execution_count": null,
      "metadata": {
        "id": "gDh4YZSt3EAh"
      },
      "outputs": [],
      "source": []
    }
  ],
  "metadata": {
    "colab": {
      "provenance": []
    },
    "kernelspec": {
      "display_name": "Python 3",
      "name": "python3"
    },
    "language_info": {
      "name": "python",
      "version": "3.10.11"
    }
  },
  "nbformat": 4,
  "nbformat_minor": 0
}
