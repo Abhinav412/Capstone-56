{
 "cells": [
  {
   "cell_type": "code",
   "execution_count": null,
   "metadata": {
    "execution": {
     "iopub.execute_input": "2025-04-24T14:13:44.146667Z",
     "iopub.status.busy": "2025-04-24T14:13:44.145979Z",
     "iopub.status.idle": "2025-04-24T14:13:53.027136Z",
     "shell.execute_reply": "2025-04-24T14:13:53.026383Z",
     "shell.execute_reply.started": "2025-04-24T14:13:44.146640Z"
    },
    "trusted": true
   },
   "outputs": [
    {
     "name": "stderr",
     "output_type": "stream",
     "text": [
      "huggingface/tokenizers: The current process just got forked, after parallelism has already been used. Disabling parallelism to avoid deadlocks...\n",
      "To disable this warning, you can either:\n",
      "\t- Avoid using `tokenizers` before the fork if possible\n",
      "\t- Explicitly set the environment variable TOKENIZERS_PARALLELISM=(true | false)\n"
     ]
    },
    {
     "name": "stdout",
     "output_type": "stream",
     "text": [
      "\u001b[34m\u001b[1mwandb\u001b[0m: \u001b[33mWARNING\u001b[0m If you're specifying your api key in code, ensure this code is not shared publicly.\n",
      "\u001b[34m\u001b[1mwandb\u001b[0m: \u001b[33mWARNING\u001b[0m Consider setting the WANDB_API_KEY environment variable, or running `wandb login` from the command line.\n",
      "\u001b[34m\u001b[1mwandb\u001b[0m: Appending key for api.wandb.ai to your netrc file: /root/.netrc\n",
      "\u001b[34m\u001b[1mwandb\u001b[0m: W&B API key is configured. Use \u001b[1m`wandb login --relogin`\u001b[0m to force relogin\n"
     ]
    },
    {
     "name": "stderr",
     "output_type": "stream",
     "text": [
      "\u001b[34m\u001b[1mwandb\u001b[0m: Currently logged in as: \u001b[33mabhinavdasu0412\u001b[0m (\u001b[33mabhinavdasu0412-pes-university\u001b[0m) to \u001b[32mhttps://api.wandb.ai\u001b[0m. Use \u001b[1m`wandb login --relogin`\u001b[0m to force relogin\n",
      "\u001b[34m\u001b[1mwandb\u001b[0m: Using wandb-core as the SDK backend.  Please refer to https://wandb.me/wandb-core for more information.\n"
     ]
    },
    {
     "data": {
      "text/html": [
       "Tracking run with wandb version 0.19.6"
      ],
      "text/plain": [
       "<IPython.core.display.HTML object>"
      ]
     },
     "metadata": {},
     "output_type": "display_data"
    },
    {
     "data": {
      "text/html": [
       "Run data is saved locally in <code>/kaggle/working/wandb/run-20250424_141345-qs7pch0b</code>"
      ],
      "text/plain": [
       "<IPython.core.display.HTML object>"
      ]
     },
     "metadata": {},
     "output_type": "display_data"
    },
    {
     "data": {
      "text/html": [
       "Syncing run <strong><a href='https://wandb.ai/abhinavdasu0412-pes-university/huggingface/runs/qs7pch0b' target=\"_blank\">finbert-augmented2</a></strong> to <a href='https://wandb.ai/abhinavdasu0412-pes-university/huggingface' target=\"_blank\">Weights & Biases</a> (<a href='https://wandb.me/developer-guide' target=\"_blank\">docs</a>)<br>"
      ],
      "text/plain": [
       "<IPython.core.display.HTML object>"
      ]
     },
     "metadata": {},
     "output_type": "display_data"
    },
    {
     "data": {
      "text/html": [
       " View project at <a href='https://wandb.ai/abhinavdasu0412-pes-university/huggingface' target=\"_blank\">https://wandb.ai/abhinavdasu0412-pes-university/huggingface</a>"
      ],
      "text/plain": [
       "<IPython.core.display.HTML object>"
      ]
     },
     "metadata": {},
     "output_type": "display_data"
    },
    {
     "data": {
      "text/html": [
       " View run at <a href='https://wandb.ai/abhinavdasu0412-pes-university/huggingface/runs/qs7pch0b' target=\"_blank\">https://wandb.ai/abhinavdasu0412-pes-university/huggingface/runs/qs7pch0b</a>"
      ],
      "text/plain": [
       "<IPython.core.display.HTML object>"
      ]
     },
     "metadata": {},
     "output_type": "display_data"
    },
    {
     "data": {
      "text/html": [
       "<button onClick=\"this.nextSibling.style.display='block';this.style.display='none';\">Display W&B run</button><iframe src='https://wandb.ai/abhinavdasu0412-pes-university/huggingface/runs/qs7pch0b?jupyter=true' style='border:none;width:100%;height:420px;display:none;'></iframe>"
      ],
      "text/plain": [
       "<wandb.sdk.wandb_run.Run at 0x7fa784263f90>"
      ]
     },
     "execution_count": 2,
     "metadata": {},
     "output_type": "execute_result"
    }
   ],
   "source": [
    "!wandb login $wandb_api_key\n",
    "import wandb\n",
    "wandb.login()\n",
    "wandb.init(project=\"huggingface\",name=\"finbert-augmented2\")"
   ]
  },
  {
   "cell_type": "code",
   "execution_count": null,
   "metadata": {
    "execution": {
     "iopub.execute_input": "2025-04-24T14:14:09.801087Z",
     "iopub.status.busy": "2025-04-24T14:14:09.800437Z",
     "iopub.status.idle": "2025-04-24T14:59:54.125650Z",
     "shell.execute_reply": "2025-04-24T14:59:54.125018Z",
     "shell.execute_reply.started": "2025-04-24T14:14:09.801061Z"
    },
    "trusted": true
   },
   "outputs": [
    {
     "name": "stderr",
     "output_type": "stream",
     "text": [
      "/tmp/ipykernel_31/1969434352.py:141: FutureWarning: `tokenizer` is deprecated and will be removed in version 5.0.0 for `Trainer.__init__`. Use `processing_class` instead.\n",
      "  trainer = Trainer(\n"
     ]
    },
    {
     "data": {
      "text/html": [
       "\n",
       "    <div>\n",
       "      \n",
       "      <progress value='12271' max='12271' style='width:300px; height:20px; vertical-align: middle;'></progress>\n",
       "      [12271/12271 44:59, Epoch 7/7]\n",
       "    </div>\n",
       "    <table border=\"1\" class=\"dataframe\">\n",
       "  <thead>\n",
       " <tr style=\"text-align: left;\">\n",
       "      <th>Epoch</th>\n",
       "      <th>Training Loss</th>\n",
       "      <th>Validation Loss</th>\n",
       "      <th>Accuracy</th>\n",
       "      <th>F1</th>\n",
       "      <th>Precision</th>\n",
       "      <th>Recall</th>\n",
       "    </tr>\n",
       "  </thead>\n",
       "  <tbody>\n",
       "    <tr>\n",
       "      <td>1</td>\n",
       "      <td>0.649300</td>\n",
       "      <td>0.553953</td>\n",
       "      <td>0.768188</td>\n",
       "      <td>0.766651</td>\n",
       "      <td>0.775453</td>\n",
       "      <td>0.768188</td>\n",
       "    </tr>\n",
       "    <tr>\n",
       "      <td>2</td>\n",
       "      <td>0.446300</td>\n",
       "      <td>0.392842</td>\n",
       "      <td>0.852782</td>\n",
       "      <td>0.853503</td>\n",
       "      <td>0.855069</td>\n",
       "      <td>0.852782</td>\n",
       "    </tr>\n",
       "    <tr>\n",
       "      <td>3</td>\n",
       "      <td>0.309900</td>\n",
       "      <td>0.319240</td>\n",
       "      <td>0.892011</td>\n",
       "      <td>0.891574</td>\n",
       "      <td>0.891775</td>\n",
       "      <td>0.892011</td>\n",
       "    </tr>\n",
       "    <tr>\n",
       "      <td>4</td>\n",
       "      <td>0.221300</td>\n",
       "      <td>0.304298</td>\n",
       "      <td>0.912696</td>\n",
       "      <td>0.912311</td>\n",
       "      <td>0.912835</td>\n",
       "      <td>0.912696</td>\n",
       "    </tr>\n",
       "    <tr>\n",
       "      <td>5</td>\n",
       "      <td>0.169100</td>\n",
       "      <td>0.303336</td>\n",
       "      <td>0.921541</td>\n",
       "      <td>0.921234</td>\n",
       "      <td>0.921211</td>\n",
       "      <td>0.921541</td>\n",
       "    </tr>\n",
       "    <tr>\n",
       "      <td>6</td>\n",
       "      <td>0.135600</td>\n",
       "      <td>0.303937</td>\n",
       "      <td>0.929815</td>\n",
       "      <td>0.929707</td>\n",
       "      <td>0.929775</td>\n",
       "      <td>0.929815</td>\n",
       "    </tr>\n",
       "    <tr>\n",
       "      <td>7</td>\n",
       "      <td>0.113400</td>\n",
       "      <td>0.305467</td>\n",
       "      <td>0.932097</td>\n",
       "      <td>0.932013</td>\n",
       "      <td>0.932040</td>\n",
       "      <td>0.932097</td>\n",
       "    </tr>\n",
       "  </tbody>\n",
       "</table><p>"
      ],
      "text/plain": [
       "<IPython.core.display.HTML object>"
      ]
     },
     "metadata": {},
     "output_type": "display_data"
    },
    {
     "data": {
      "text/plain": [
       "TrainOutput(global_step=12271, training_loss=0.29212026135203173, metrics={'train_runtime': 2699.8986, 'train_samples_per_second': 72.696, 'train_steps_per_second': 4.545, 'total_flos': 0.0, 'train_loss': 0.29212026135203173, 'epoch': 7.0})"
      ]
     },
     "execution_count": 3,
     "metadata": {},
     "output_type": "execute_result"
    }
   ],
   "source": [
    "import pandas as pd\n",
    "import torch\n",
    "import numpy as np\n",
    "from sklearn.model_selection import train_test_split\n",
    "from sklearn.metrics import accuracy_score, precision_recall_fscore_support\n",
    "from sklearn.utils.class_weight import compute_class_weight\n",
    "from transformers.modeling_outputs import SequenceClassifierOutput\n",
    "from transformers import (\n",
    "    AutoTokenizer,\n",
    "    AutoConfig,\n",
    "    BertPreTrainedModel,\n",
    "    BertModel,\n",
    "    Trainer,\n",
    "    TrainingArguments,\n",
    "    AutoModel,\n",
    "    EarlyStoppingCallback\n",
    ")\n",
    "import torch.nn as nn\n",
    "\n",
    "# Load augmented dataset\n",
    "df = pd.read_csv(\"augmented_financial_news.csv\")\n",
    "\n",
    "# Check for essential columns\n",
    "assert 'combined' in df.columns and 'Sentiment' in df.columns, \"Expected columns not found!\"\n",
    "\n",
    "# Capitalize sentiment to match mapping\n",
    "df['Sentiment'] = df['Sentiment'].str.capitalize()\n",
    "\n",
    "# Label mapping\n",
    "label_map = {'Negative': 0, 'Neutral': 1, 'Positive': 2}\n",
    "df = df[df['Sentiment'].isin(label_map.keys())]\n",
    "df['label'] = df['Sentiment'].map(label_map)\n",
    "\n",
    "# Train-test split\n",
    "train_texts, val_texts, train_labels, val_labels = train_test_split(\n",
    "    df['combined'].tolist(), df['label'].tolist(),\n",
    "    test_size=0.2, stratify=df['label'], random_state=42\n",
    ")\n",
    "\n",
    "# Tokenizer\n",
    "tokenizer = AutoTokenizer.from_pretrained(\"ProsusAI/finbert\")\n",
    "train_encodings = tokenizer(train_texts, truncation=True, padding=True, max_length=256)\n",
    "val_encodings = tokenizer(val_texts, truncation=True, padding=True, max_length=256)\n",
    "\n",
    "# Dataset class\n",
    "class NewsDataset(torch.utils.data.Dataset):\n",
    "    def __init__(self, encodings, labels):\n",
    "        self.encodings = encodings\n",
    "        self.labels = labels\n",
    "\n",
    "    def __getitem__(self, idx):\n",
    "        item = {k: torch.tensor(v[idx]) for k, v in self.encodings.items()}\n",
    "        item['labels'] = torch.tensor(self.labels[idx])\n",
    "        return item\n",
    "\n",
    "    def __len__(self):\n",
    "        return len(self.labels)\n",
    "\n",
    "train_dataset = NewsDataset(train_encodings, train_labels)\n",
    "val_dataset = NewsDataset(val_encodings, val_labels)\n",
    "\n",
    "# Compute metrics\n",
    "def compute_metrics(pred):\n",
    "    labels = pred.label_ids\n",
    "    preds = pred.predictions.argmax(-1)\n",
    "    precision, recall, f1, _ = precision_recall_fscore_support(labels, preds, average='weighted')\n",
    "    acc = accuracy_score(labels, preds)\n",
    "    return {\"accuracy\": acc, \"f1\": f1, \"precision\": precision, \"recall\": recall}\n",
    "\n",
    "# Custom FinBERT model\n",
    "class CustomFinBERT(nn.Module):\n",
    "    def __init__(self, model_name, num_labels, class_weights=None, freeze_until_layer=9):\n",
    "        super().__init__()\n",
    "        self.bert = AutoModel.from_pretrained(model_name)\n",
    "        \n",
    "        for name, param in self.bert.named_parameters():\n",
    "            if 'encoder.layer' in name:\n",
    "                layer_num = int(name.split('.')[2])\n",
    "                if layer_num < freeze_until_layer:\n",
    "                    param.requires_grad = False\n",
    "            elif 'embeddings' in name:\n",
    "                param.requires_grad = False\n",
    "            elif 'pooler' in name:\n",
    "                param.requires_grad = False\n",
    "\n",
    "        self.dropout = nn.Dropout(0.3)\n",
    "        self.classifier = nn.Linear(self.bert.config.hidden_size, num_labels)\n",
    "        self.class_weights = class_weights\n",
    "        self.softmax = nn.Softmax(dim=-1)  # Added softmax layer\n",
    "\n",
    "    def forward(self, input_ids, attention_mask, labels=None):\n",
    "        outputs = self.bert(input_ids=input_ids, attention_mask=attention_mask)\n",
    "        pooled_output = outputs.pooler_output\n",
    "        logits = self.classifier(self.dropout(pooled_output))\n",
    "\n",
    "        loss = None\n",
    "        if labels is not None:\n",
    "            loss_fct = nn.CrossEntropyLoss(weight=self.class_weights)\n",
    "            loss = loss_fct(logits, labels)\n",
    "        output_logits = self.softmax(logits) if labels is None else logits\n",
    "\n",
    "        return SequenceClassifierOutput(\n",
    "            loss=loss,\n",
    "            logits=output_logits,  # These will be softmax probs at inference time\n",
    "            hidden_states=None,\n",
    "            attentions=None\n",
    "        )\n",
    "\n",
    "\n",
    "# Compute class weights\n",
    "class_weights = compute_class_weight('balanced', classes=np.unique(train_labels), y=train_labels)\n",
    "class_weights = torch.tensor(class_weights, dtype=torch.float)\n",
    "\n",
    "# Config and model init\n",
    "config = AutoConfig.from_pretrained(\"ProsusAI/finbert\", num_labels=3)\n",
    "device = torch.device(\"cuda\" if torch.cuda.is_available() else \"cpu\")\n",
    "class_weights = class_weights.to(device)\n",
    "\n",
    "model = CustomFinBERT(model_name=\"ProsusAI/finbert\", num_labels=3, class_weights=class_weights)\n",
    "model.to(device)\n",
    "\n",
    "# Training arguments\n",
    "training_args = TrainingArguments(\n",
    "    output_dir=\"./finbert-results\",\n",
    "    eval_strategy=\"epoch\",\n",
    "    save_strategy=\"epoch\",\n",
    "    logging_strategy=\"epoch\",\n",
    "    num_train_epochs=7,\n",
    "    per_device_train_batch_size=16,\n",
    "    per_device_eval_batch_size=16,\n",
    "    learning_rate=2e-5,\n",
    "    weight_decay=0.01,\n",
    "    load_best_model_at_end=True,\n",
    "    metric_for_best_model=\"eval_f1\",\n",
    "    greater_is_better=True,\n",
    "    save_total_limit=2,\n",
    "    logging_dir=\"./logs\",\n",
    ")\n",
    "\n",
    "# Trainer setup\n",
    "trainer = Trainer(\n",
    "    model=model,\n",
    "    args=training_args,\n",
    "    train_dataset=train_dataset,\n",
    "    eval_dataset=val_dataset,\n",
    "    tokenizer=tokenizer,\n",
    "    compute_metrics=compute_metrics,\n",
    "    callbacks=[EarlyStoppingCallback(early_stopping_patience=2)],\n",
    ")\n",
    "\n",
    "# Start training\n",
    "trainer.train()"
   ]
  },
  {
   "cell_type": "code",
   "execution_count": 4,
   "metadata": {
    "execution": {
     "iopub.execute_input": "2025-04-24T15:00:00.646901Z",
     "iopub.status.busy": "2025-04-24T15:00:00.646627Z",
     "iopub.status.idle": "2025-04-24T15:00:03.011910Z",
     "shell.execute_reply": "2025-04-24T15:00:03.011212Z",
     "shell.execute_reply.started": "2025-04-24T15:00:00.646881Z"
    },
    "trusted": true
   },
   "outputs": [
    {
     "data": {
      "text/plain": [
       "<Artifact finbert-augmented>"
      ]
     },
     "execution_count": 4,
     "metadata": {},
     "output_type": "execute_result"
    }
   ],
   "source": [
    "import torch\n",
    "model_path=\"finbert.pth\"\n",
    "torch.save(model.state_dict(),model_path)\n",
    "\n",
    "artifact=wandb.Artifact(name=\"finbert-augmented\",type=\"model\")\n",
    "artifact.add_file(model_path)\n",
    "wandb.log_artifact(artifact)"
   ]
  }
 ],
 "metadata": {
  "kaggle": {
   "accelerator": "gpu",
   "dataSources": [
    {
     "datasetId": 7171557,
     "sourceId": 11483331,
     "sourceType": "datasetVersion"
    }
   ],
   "dockerImageVersionId": 31013,
   "isGpuEnabled": true,
   "isInternetEnabled": true,
   "language": "python",
   "sourceType": "notebook"
  },
  "kernelspec": {
   "display_name": "Python 3",
   "language": "python",
   "name": "python3"
  },
  "language_info": {
   "codemirror_mode": {
    "name": "ipython",
    "version": 3
   },
   "file_extension": ".py",
   "mimetype": "text/x-python",
   "name": "python",
   "nbconvert_exporter": "python",
   "pygments_lexer": "ipython3",
   "version": "3.11.11"
  }
 },
 "nbformat": 4,
 "nbformat_minor": 4
}
